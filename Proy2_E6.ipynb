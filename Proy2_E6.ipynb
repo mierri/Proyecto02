{
 "cells": [
  {
   "cell_type": "markdown",
   "id": "d29f4081-7afb-40aa-9c6b-91d40c93a61a",
   "metadata": {},
   "source": [
    "# Teoría de Lenguajes de Programación - Funciones Recursivas en Racket 💻\n",
    "## Proyecto 2 - Equipo 6\n",
    "**Integrantes:**\n",
    "1. Canto Paredes Eduardo Alexander\n",
    "2. González Álvarez María Fernanda\n",
    "3. González Aranda Mario Joel\n",
    "\n",
    "*Descripción:*\n",
    "Implementar en un Jupyter Notebook mediante el kernel iRacket los siguientes ejercicios recursivos."
   ]
  },
  {
   "cell_type": "markdown",
   "id": "31fbfe51-109e-46ff-8070-ea9fc2fe5216",
   "metadata": {},
   "source": [
    "## 1. Número Combinatorio ✨\n",
    "\n",
    "> **Datos de entrada**: `n`,es el número total de elementos, y `k` el número de elementos a seleccinar.  \n",
    "**Datos de salida**: El número de combinaciones totales de `n` en `k`.\n",
    "\n",
    "Este código es una implementación de la fórmula matemática para calcular el número combinatorio de $n$ en $k$, también conocido como coeficiente binomial.\n",
    "\n",
    "Para elegir $k$ elementos de un conjunto de $n$ elementos, podemos tomar un elemento específico como parte de esos $k$ elementos o no. Si tomamos un elemento específico como parte de los $k$ elementos, entonces debemos elegir $k-1$ elementos de los $n-1$ elementos restantes. Si no tomamos ese elemento específico como parte de los $k$ elementos, entonces debemos elegir $k$ elementos de los $n-1$ elementos restantes.\n",
    "\n",
    "Al sumar estas dos opciones, obtenemos el número total de formas de elegir $k$ elementos de un conjunto de $n$ elementos. Y debido a que la fórmula se define recursivamente, podemos utilizarla para calcular el número combinatorio de cualquier par de valores $n$ y $k$. \n",
    "\n",
    "Recursivamente, esto es: $C_{n, k}=C_{n-1,~k-1}+C_{n-1,~k}$\n",
    "\n",
    "La función definida al inicio, `combinaciones`, utiliza recursión para calcular el número combinatorio. Si $k=0 \\vee k=n$, entonces retorna $1$, porque la fórmula combinatoria de un conjunto vacío o del conjunto completo siempre es $1$. De lo contrario, utiliza la fórmula recursiva mencionada anteriormente.\n",
    "\n",
    "El programa luego solicita al usuario que ingrese los valores de `n` y `k`, y los valida para asegurarse de que no sean números negativos. Si $k$ es mayor que $n$, significa que el número combinatorio no está definido y se imprime un mensaje que indica esto. Si $k$ es menor o igual que $n$, el programa utiliza la función `combinaciones` para calcular el número combinatorio y lo imprime en pantalla."
   ]
  },
  {
   "cell_type": "code",
   "execution_count": 5,
   "id": "85f31812-4a6c-4332-828f-ff79cc91fbac",
   "metadata": {},
   "outputs": [
    {
     "name": "stdout",
     "output_type": "stream",
     "text": [
      "Evaluación del número combinatorio C(n,k): \n",
      "Introduzca n: "
     ]
    },
    {
     "name": "stdin",
     "output_type": "stream",
     "text": [
      " 7\n"
     ]
    },
    {
     "name": "stdout",
     "output_type": "stream",
     "text": [
      "Introduzca k: "
     ]
    },
    {
     "name": "stdin",
     "output_type": "stream",
     "text": [
      " 2\n"
     ]
    },
    {
     "name": "stdout",
     "output_type": "stream",
     "text": [
      "C(n, k) = 21"
     ]
    }
   ],
   "source": [
    "(define (C n k)\n",
    "  (if (or (< n 0) (< k 0)) \n",
    "      (displayln \"Solo números positivos\") \n",
    "      (if (= k 0)\n",
    "          1\n",
    "          (if (= n k)\n",
    "              1\n",
    "              (if (> k n)\n",
    "                 (displayln \"Está combinación no está definida, n debe ser mayor a k\")\n",
    "                  (+ (C (- n 1) (- k 1))  (C (- n 1 ) k)) \n",
    "              )\n",
    "          )\n",
    "      )\n",
    "  )\n",
    ")\n",
    "\n",
    "(display \"Evaluación del número combinatorio C(n,k): \") (newline)\n",
    "(display \"Introduzca n: \")\n",
    "(let ((n (read)))\n",
    "  (display \"Introduzca k: \")\n",
    "  (let ((k (read)))\n",
    "    (display \"C(n, k) = \")\n",
    "    (display (C n k))))"
   ]
  },
  {
   "cell_type": "markdown",
   "id": "c879d506-dcab-42f5-9fb9-ac8542fe6988",
   "metadata": {},
   "source": [
    "## 2. Máximo Común Divisor de Números Negativos 🌟\n",
    "\n",
    "> **Datos de entrada**: `a` y `b`, dos números enteros donde `a < b`. Para los propósitos de este ejercicio, se permiten números únicamente negativos.  \n",
    "**Datos de salida**: Máximo Común Divisor (MCD) entre `a` y `b`.\n",
    "\n",
    "Este ejercicio introduce una función llamada `mcd`, destinada a calcular el MCD de dos números enteros negativos `a` y `b` utilizando una adaptación del algoritmo de Euclides. La función asegura que ambos números sean negativos antes de proceder con el algoritmo.\n",
    "\n",
    "El algoritmo modificado se basa en la propiedad matemática de que el MCD de dos números no cambia si el mayor número se reduce por el menor. En otras palabras, $MCD(a, b) = MCD(a, b-a)$ para $a < b$, lo cual es una variación del algoritmo tradicional de Euclides que normalmente utiliza el resto de la división de `a` por `b` en lugar de la diferencia.\n",
    "\n",
    "La función `mcd` opera bajo las siguientes reglas:\n",
    "- Si `a` es negativo, se convierte a `a` en positivo llamando recursivamente a `mcd` con `-a` y `b`.\n",
    "- Si `b` es negativo, se convierte a `b` en positivo llamando recursivamente a `mcd` con `a` y `-b`.\n",
    "- Si `a` es menor que `b`, aplica la propiedad $MCD(a, b) = MCD(a, b-a)$.\n",
    "- De lo contrario, aplica la propiedad $MCD(a, b) = MCD(a-b, b)$."
   ]
  },
  {
   "cell_type": "code",
   "execution_count": 14,
   "id": "00eb252d-af3a-4645-9230-c1f4164bc29f",
   "metadata": {},
   "outputs": [
    {
     "name": "stdout",
     "output_type": "stream",
     "text": [
      "Evaluación del máximo común divisor MCD(a, b) \n",
      "Introduzca el valor de a (debe ser negativo): "
     ]
    },
    {
     "name": "stdin",
     "output_type": "stream",
     "text": [
      " 0\n"
     ]
    },
    {
     "name": "stdout",
     "output_type": "stream",
     "text": [
      "El valor de 'a' debe ser negativo.\n"
     ]
    },
    {
     "name": "stdin",
     "output_type": "stream",
     "text": [
      " -3\n"
     ]
    },
    {
     "name": "stdout",
     "output_type": "stream",
     "text": [
      "Introduzca el valor de b (debe ser negativo): "
     ]
    },
    {
     "name": "stdin",
     "output_type": "stream",
     "text": [
      " 0\n"
     ]
    },
    {
     "name": "stdout",
     "output_type": "stream",
     "text": [
      "El valor de 'b' debe ser negativo.\n"
     ]
    },
    {
     "name": "stdin",
     "output_type": "stream",
     "text": [
      " -3\n"
     ]
    },
    {
     "name": "stdout",
     "output_type": "stream",
     "text": [
      "El Máximo Común Divisor (MCD) de -3 y -3 es: 3\n"
     ]
    }
   ],
   "source": [
    "(define (mcd a b)\n",
    "  (if (< a 0) (mcd (* a -1) b)\n",
    "      (if (< b 0) (mcd a (* b -1))\n",
    "          (if (= a 0)\n",
    "              b\n",
    "              (if (= b 0)\n",
    "                  a\n",
    "                  (if (< a b)\n",
    "                      (mcd a (- b a))\n",
    "                      (mcd (- a b) b)\n",
    "                  )\n",
    "              )\n",
    "          )\n",
    "      )\n",
    "  )\n",
    ")\n",
    "\n",
    "(display \"Evaluación del máximo común divisor MCD(a, b) \\n\")\n",
    "(display \"Introduzca el valor de a (debe ser negativo): \")\n",
    "(let loop ((a (read)))\n",
    "  (if (< a 0)\n",
    "      (begin\n",
    "        (display \"Introduzca el valor de b (debe ser negativo): \")\n",
    "        (let loop ((b (read)))\n",
    "          (if (< b 0)\n",
    "              (begin\n",
    "                (display \"El Máximo Común Divisor (MCD) de \")(display a) (display \" y \") (display b)(display \" es: \")(display (mcd a b))\n",
    "                (newline))\n",
    "              (begin\n",
    "                (display \"El valor de 'b' debe ser negativo.\\n\")\n",
    "                (loop (read)))))\n",
    "        )\n",
    "      (begin\n",
    "        (display \"El valor de 'a' debe ser negativo.\\n\")\n",
    "        (loop (read)))))\n"
   ]
  },
  {
   "cell_type": "markdown",
   "id": "62e3c324-62dc-4fc4-b35e-bf705131ab17",
   "metadata": {},
   "source": [
    "## 3. Generación de Lista de Números Primos ✨\n",
    "\n",
    "> **Datos de entrada**: `a` y `b`, dos números enteros donde `a < b`. Este ejercicio no se restringe a números negativos o positivos, permitiendo cualquier rango entero donde `a` es menor que `b`.  \n",
    "**Datos de salida**: Una lista de todos los números primos entre `a` y `b` (no inclusivo).\n",
    "\n",
    "Este ejercicio introduce una función denominada `primos`, diseñada para generar y devolver una lista de todos los números primos entre dos números enteros `a` y `b`. La función explora de manera incremental cada número en el rango especificado y determina si cada uno es primo.\n",
    "\n",
    "La detección de números primos se basa en la prueba de divisibilidad: un número es primo si solo es divisible entre sí mismo y la unidad. La implementación específica realiza una iteración comenzando desde el número inmediatamente superior a `a` y continúa hasta `b`, revisando cada número para determinar si es primo mediante un proceso de prueba de divisores.\n",
    "\n",
    "La función `primos` opera bajo las siguientes premisas:\n",
    "- Inicia la iteración con el primer número después de `a` para asegurar que el rango sea `(a, b)` y no `[a, b]`.\n",
    "- Utiliza una función interna `iteracion` que se llama a sí misma recursivamente, avanzando a través de cada número en el rango hasta que supera `b`, punto en el cual retorna una lista vacía indicando el fin de la iteración.\n",
    "- Dentro de `iteracion`, se utiliza un bucle interno `loop` para probar divisores, comenzando con 2 (el primer número primo) hasta `n` (el número actual siendo probado en el rango).\n",
    "  - Si se encuentra que `n` es divisible por cualquier número que no sea él mismo (indicado por `n mod i = 0`), `n` no es primo y la iteración continúa con el siguiente número.\n",
    "  - Si `i` alcanza `n` sin encontrar divisores, entonces `n` es primo y se agrega a la lista de resultados mediante `cons`.\n",
    "  - El bucle `loop` incrementa `i` y se repite hasta que se determina si `n` es primo o no."
   ]
  },
  {
   "cell_type": "code",
   "execution_count": 18,
   "id": "8d22fe4d-69db-40ea-b49d-5c3066986ba6",
   "metadata": {},
   "outputs": [
    {
     "name": "stdout",
     "output_type": "stream",
     "text": [
      "Introduce el valor de a: "
     ]
    },
    {
     "name": "stdin",
     "output_type": "stream",
     "text": [
      " 9\n"
     ]
    },
    {
     "name": "stdout",
     "output_type": "stream",
     "text": [
      "Introduce el valor de b: "
     ]
    },
    {
     "name": "stdin",
     "output_type": "stream",
     "text": [
      " 10\n"
     ]
    },
    {
     "name": "stdout",
     "output_type": "stream",
     "text": [
      "Los números primos entre 9 y 10 son: ()\n"
     ]
    }
   ],
   "source": [
    "(define (primos a b)\n",
    "  (define (iteracion n)\n",
    "    (if (> n b) \n",
    "        '()\n",
    "        (let loop ((i 2)) \n",
    "          (cond\n",
    "            ((= i n) (cons n (iteracion (+ n 1)))) \n",
    "            ((= 0 (modulo n i)) (iteracion (+ n 1)))\n",
    "            (else (loop (+ i 1)))))))\n",
    "  (iteracion (+ a 1)))\n",
    "\n",
    "(display \"Genera una lista de números primos dentro de un rango.\")\n",
    "(let loop ((a 0) (b 0))\n",
    "  (display \"Introduce el valor de a: \")\n",
    "  (set! a (read))\n",
    "  (display \"Introduce el valor de b: \")\n",
    "  (set! b (read))\n",
    "  (if (< a b)\n",
    "      (begin\n",
    "        (display \"Los números primos entre \")\n",
    "        (display a)\n",
    "        (display \" y \")\n",
    "        (display b)\n",
    "        (display \" son: \")\n",
    "        (display (primos a b))\n",
    "        (newline))\n",
    "      (begin\n",
    "        (display \"Los valores deben ser a < b. Inténtelo de nuevo.\\n\")\n",
    "        (loop a b))))"
   ]
  },
  {
   "cell_type": "markdown",
   "id": "fbbfe629-416e-4e4e-8149-8c65775fc9c3",
   "metadata": {},
   "source": [
    "## 4. Búsqueda en Lista 🌟\n",
    "\n",
    "> **Datos de entrada**: `n`, el elemento a buscar, y `lista`, una lista de elementos.  \n",
    "**Datos de salida**: Un booleano que indica si el elemento `n` se encuentra o no en `lista`.\n",
    "\n",
    "Este ejercicio presenta una función denominada `busca`, diseñada para verificar la presencia de un elemento `n` dentro de una lista dada `lista`. Utiliza un enfoque recursivo para iterar a través de la lista, comparando cada elemento con `n`.\n",
    "\n",
    "El procedimiento de la función `busca` es sencillo pero efectivo, implementando la técnica de búsqueda lineal, la cual recorre cada elemento de la lista secuencialmente hasta encontrar el elemento objetivo o hasta que la lista se agote. La función opera bajo las siguientes reglas:\n",
    "\n",
    "- Si la lista está vacía (`null? lista`), la función retorna `#f`, indicando que el elemento `n` no se encontró en la lista.\n",
    "- Si el primer elemento de la lista (`car lista`) es igual a `n`, entonces retorna `#t`, señalando que el elemento ha sido encontrado.\n",
    "- Si el primer elemento no es `n`, la función se llama a sí misma recursivamente con el resto de la lista (`cdr lista`), omitiendo el primer elemento ya comparado.\n",
    "\n",
    "La búsqueda termina tan pronto como se encuentra una coincidencia, retornando `#t`, o cuando se ha recorrido toda la lista sin encontrar el elemento, retornando `#f`. Este enfoque asegura que cada elemento de la lista será examinado exactamente una vez, ofreciendo una manera eficiente y directa de determinar la presencia de un valor específico dentro de una estructura de datos lineal."
   ]
  },
  {
   "cell_type": "code",
   "execution_count": 4,
   "id": "c4aa30c6-4498-4709-a519-9a4b52b1cfa8",
   "metadata": {},
   "outputs": [
    {
     "name": "stdout",
     "output_type": "stream",
     "text": [
      "Determina si un elemento se encuentra en una lista.Introduzca el elemento a buscar: "
     ]
    },
    {
     "name": "stdin",
     "output_type": "stream",
     "text": [
      " 8\n"
     ]
    },
    {
     "name": "stdout",
     "output_type": "stream",
     "text": [
      "Introduza la lista (ejemplo: (1 2 3 4)): "
     ]
    },
    {
     "name": "stdin",
     "output_type": "stream",
     "text": [
      " (6 6 4 8)\n"
     ]
    },
    {
     "name": "stdout",
     "output_type": "stream",
     "text": [
      "Resultado: #t"
     ]
    }
   ],
   "source": [
    "(define (busca n lista)\n",
    "    (cond\n",
    "        ((null? lista) #f) \n",
    "        ((equal? n (car lista)) #t)\n",
    "        (else (busca n (cdr lista))) \n",
    "    )\n",
    ")\n",
    "\n",
    "(display \"Determina si un elemento se encuentra en una lista.\")(newline)\n",
    "(display \"Introduzca el elemento a buscar: \")\n",
    "(let ((n (read)))\n",
    "  (display \"Introduza la lista (ejemplo: (1 2 3 4)): \")\n",
    "  (let ((lista (read)))\n",
    "    (display \"Resultado: \")\n",
    "    (display (busca n lista))))"
   ]
  },
  {
   "cell_type": "markdown",
   "id": "7058ae26-0ae8-49a3-a205-f0dd98b06f3b",
   "metadata": {},
   "source": [
    "## 5. Inversión de Lista 🌟\n",
    "\n",
    "> **Datos de entrada**: `lista`, una lista de elementos que se desea invertir.  \n",
    "**Datos de salida**: La `lista` ingresada pero con sus elementos en orden inverso.\n",
    "\n",
    "Este ejercicio introduce una función llamada `invierte`, la cual está diseñada para invertir el orden de los elementos dentro de una lista dada. La función aplica un método recursivo para descomponer y reconstruir la lista en el orden opuesto, demostrando una aplicación práctica y elegante de la recursividad en la manipulación de estructuras de datos lineales.\n",
    "\n",
    "El funcionamiento de `invierte` se basa en los siguientes principios operativos:\n",
    "\n",
    "- Cuando la función recibe una lista vacía (`null? lista`), retorna una lista vacía (`'()`). Este caso base es crucial para la recursividad, proporcionando un punto de terminación claro.\n",
    "- Si la lista no está vacía, la función procede a llamarse a sí misma recursivamente con el resto de la lista (`cdr lista`), excluyendo el primer elemento (`car lista`). Esta llamada recursiva continúa descomponiendo la lista hasta que se alcanza el caso base.\n",
    "- En cada etapa de la recursión, el primer elemento de la lista en el momento de esa llamada se agrega al final de la lista reconstruida mediante `append`. Esto se logra concatenando el resultado de la llamada recursiva, que eventualmente construye la parte invertida de la lista, con el elemento actual envuelto en `list` para asegurar que se trate como una lista durante la concatenación."
   ]
  },
  {
   "cell_type": "code",
   "execution_count": 22,
   "id": "0b39ec67-5fd9-4cb3-9cf2-e1cf0947187c",
   "metadata": {},
   "outputs": [
    {
     "name": "stdout",
     "output_type": "stream",
     "text": [
      "Invierte el orden de una lista.Introduce una lista para invertirla (ejemplo: (1 2 3)): "
     ]
    },
    {
     "name": "stdin",
     "output_type": "stream",
     "text": [
      " (7 9 5 6 8)\n"
     ]
    },
    {
     "name": "stdout",
     "output_type": "stream",
     "text": [
      "La lista invertida es: (8 6 5 9 7)"
     ]
    }
   ],
   "source": [
    "(define (invierte lista)\n",
    "    (if (null? lista)\n",
    "        '()\n",
    "        (append (invierte (cdr lista))\n",
    "        (list (car lista)))\n",
    "    )\n",
    ")\n",
    "\n",
    "(display \"Invierte el orden de una lista.\")(newline)\n",
    "(display \"Introduce una lista para invertirla (ejemplo: (1 2 3)): \")\n",
    "(let ((lista (read)))\n",
    "  (display \"La lista invertida es: \")\n",
    "  (display (invierte lista)))"
   ]
  },
  {
   "cell_type": "markdown",
   "id": "f7dead2c-6709-4213-be49-7b798e860655",
   "metadata": {},
   "source": [
    "## 6. Eliminación de Elemento de una Lista 🌟\n",
    "\n",
    "> **Datos de entrada**: `n`, el elemento a eliminar, y `lista`, una lista de elementos donde se buscará y eliminará `n`.  \n",
    "**Datos de salida**: Una nueva lista que resulta de eliminar todas las instancias de `n` en `lista`.\n",
    "\n",
    "Este ejercicio introduce una función llamada `elimina`, que se propone eliminar todas las instancias de un elemento `n` específico de una lista dada `lista`. Se emplea un método recursivo para atravesar la lista, eliminando cualquier ocurrencia de `n`.\n",
    "\n",
    "El mecanismo de `elimina` se basa en la técnica de filtrado recursivo, donde la función se despliega a lo largo de la lista elemento por elemento, reconstruyendo una nueva lista sobre la marcha, pero omitiendo las instancias de `n`. La operación de la función sigue estas reglas esenciales:\n",
    "\n",
    "- Si la lista está vacía (`null? lista`), retorna una lista vacía, ya que no hay elementos para eliminar ni conservar.\n",
    "- Si el primer elemento de la lista (`car lista`) coincide con `n`, ese elemento se omite, y la función continúa su proceso con el resto de la lista (`cdr lista`), no incluyendo el elemento actual en la nueva lista construida.\n",
    "- En caso contrario, si el primer elemento no es `n`, este se añade a la nueva lista que está siendo construida, y la función procede recursivamente con el resto de la lista."
   ]
  },
  {
   "cell_type": "code",
   "execution_count": 6,
   "id": "f72ddba9-4430-4cdc-ad26-9169c8929114",
   "metadata": {},
   "outputs": [
    {
     "name": "stdout",
     "output_type": "stream",
     "text": [
      "Elimina un elemento de una lista.\n",
      "Introduzca el elemento a eliminar de la lista: "
     ]
    },
    {
     "name": "stdin",
     "output_type": "stream",
     "text": [
      " 7\n"
     ]
    },
    {
     "name": "stdout",
     "output_type": "stream",
     "text": [
      "Introduzca la lista (ejemplo: (1 2 3)): "
     ]
    },
    {
     "name": "stdin",
     "output_type": "stream",
     "text": [
      " (7 9 5 7 6 8 7)\n"
     ]
    },
    {
     "name": "stdout",
     "output_type": "stream",
     "text": [
      "La lista después de eliminar todas las ocurrencias de 7 es: (9 5 6 8)"
     ]
    }
   ],
   "source": [
    "(define (elimina n lista)\n",
    "    (cond\n",
    "        ((null? lista) '())\n",
    "        ((equal? n (car lista)) (elimina n (cdr lista)))\n",
    "        (else (cons (car lista) (elimina n (cdr lista))))\n",
    "    )\n",
    ")\n",
    "\n",
    "(display \"Elimina un elemento de una lista.\")(newline)\n",
    "(display \"Introduzca el elemento a eliminar de la lista: \")\n",
    "(let ((n (read)))\n",
    "  (display \"Introduzca la lista (ejemplo: (1 2 3)): \")\n",
    "  (let ((lista (read)))\n",
    "    (display \"La lista después de eliminar todas las ocurrencias de \")\n",
    "    (display n)\n",
    "    (display \" es: \")\n",
    "    (display (elimina n lista)))\n",
    "  )"
   ]
  },
  {
   "cell_type": "markdown",
   "id": "d017593e-ef87-444f-81d5-7d0a7798445f",
   "metadata": {},
   "source": [
    "## 7. Detección de Palíndromos 🌟\n",
    "\n",
    "> **Datos de entrada**: `x`, un número entero positivo del cual se verificará si es un palíndromo.  \n",
    "**Datos de salida**: Un valor booleano, `#t` si `x` es un palíndromo, y `#f` si no lo es.\n",
    "\n",
    "El código proporcionado define una función `palindromo` que determina si un número entero positivo dado es un palíndromo. Un palíndromo es un número que se lee igual hacia adelante que hacia atrás, como 12321 o 1331. Para lograr esta verificación, la función sigue un enfoque de dos pasos:\n",
    "\n",
    "- Primero, el número `x` se convierte en una lista de sus dígitos individuales mediante `numToList`. Después, esta lista se invierte utilizando la función `invierte`, que no se define dentro del ejemplo proporcionado pero se asume realiza la inversión de los elementos de la lista.\n",
    "   \n",
    "- A continuación, la función compara la lista invertida con la lista original de dígitos. Si ambas listas son iguales, significa que el número `x` es un palíndromo, y la función devuelve `#t`. De lo contrario, devuelve `#f`.\n",
    "\n",
    "El algoritmo aprovecha la representación de los números en forma de listas para facilitar la comparación directa entre la secuencia original de dígitos y su versión invertida, evitando así el uso de la función `reverse` de Racket y manteniendo el proceso dentro del marco de la recursividad y el manejo manual de listas."
   ]
  },
  {
   "cell_type": "code",
   "execution_count": null,
   "id": "26ca345b-e644-4c13-a9b4-edb1454997e8",
   "metadata": {},
   "outputs": [],
   "source": [
    "(define (invierte lista)\n",
    "    (if (null? lista)\n",
    "        '()\n",
    "        (append (invierte (cdr lista))\n",
    "        (list (car lista)))\n",
    "    )\n",
    ")\n",
    "\n",
    "(define (numToList x)\n",
    "    (if (= x 0)\n",
    "        '()\n",
    "        (append (numToList (quotient x 10))(list (remainder x 10))\n",
    "        )\n",
    "    )\n",
    ")\n",
    "\n",
    "(define (palindromo x)\n",
    "  (let ([m (numToList x)]) \n",
    "    (let ([i (invierte m)])\n",
    "      (if (equal? i m)\n",
    "          #t\n",
    "          #f)\n",
    "        )\n",
    "    )\n",
    ")\n",
    "\n",
    "(display \"Determina si un número entero positivo es un palíndromo.\")(newline)\n",
    "(display \"Introduzca un número positivo: \")\n",
    "(let loop ((x (read)))\n",
    "  (if (<= x 0)\n",
    "      (begin\n",
    "        (display \"Introduzca un número positivo: \")\n",
    "        (loop (read)))\n",
    "      (begin\n",
    "        (display \"Resultado: \")\n",
    "        (display (palindromo x))\n",
    "        )\n",
    "      )\n",
    "  )"
   ]
  },
  {
   "cell_type": "markdown",
   "id": "366b8715-2ef7-49bf-bd7b-d08920e35388",
   "metadata": {},
   "source": [
    "## 8. Suma de Dígitos 🌟\n",
    "\n",
    "> **Datos de entrada**: `x`, un número entero del cual calcularemos la suma de sus dígitos.  \n",
    "**Datos de salida**: La suma de los dígitos de `x`.\n",
    "\n",
    "La función presentada se denomina `SumaDigitos` y recibe como argumento el número entero `x`. Esta función se encarga de calcular la suma de todos los dígitos que componen a `x`, haciendo uso de una estrategia recursiva sin depender de funciones incorporadas específicas de Racket para el manejo de números o cadenas.\n",
    "\n",
    "El algoritmo opera bajo un simple principio de recursividad, donde:\n",
    "- Si `x` es menor que 10 (es decir, es un único dígito), la función simplemente devuelve `x`, puesto que la \"suma de sus dígitos\" es el mismo número.\n",
    "- Para números mayores o iguales a 10, la función se descompone en la suma del dígito menos significativo (`modulo x 10`) y la suma de los dígitos del cociente de `x` dividido entre 10 (`quotient x 10`). Esta operación se repite recursivamente hasta que se descompone completamente el número.\n",
    "\n",
    "La expresión `(+ (modulo x 10) (SumaDigitos (quotient x 10)))` representa el núcleo de esta lógica recursiva, donde `(modulo x 10)` obtiene el último dígito de `x` y `(quotient x 10)` reduce `x` al excluir el último dígito, permitiendo así la suma iterativa de cada dígito individual hasta que solo queda un dígito."
   ]
  },
  {
   "cell_type": "code",
   "execution_count": 4,
   "id": "930c5e31-2465-4e94-8b8b-8cdeb1cf43be",
   "metadata": {},
   "outputs": [
    {
     "name": "stdout",
     "output_type": "stream",
     "text": [
      "Introduzca un número entero: "
     ]
    },
    {
     "name": "stdin",
     "output_type": "stream",
     "text": [
      " 6.43\n"
     ]
    },
    {
     "name": "stdout",
     "output_type": "stream",
     "text": [
      "Por favor, introduzca un número entero válido: "
     ]
    },
    {
     "name": "stdin",
     "output_type": "stream",
     "text": [
      " 34643\n"
     ]
    },
    {
     "name": "stdout",
     "output_type": "stream",
     "text": [
      "La suma de los dígitos de 34643 es: 20\n"
     ]
    }
   ],
   "source": [
    "(define (SumaDigitos x)\n",
    "    (cond\n",
    "        ((< x 10) x) \n",
    "        (else (+ (modulo x 10) (SumaDigitos (quotient x 10))))\n",
    "    )\n",
    ")\n",
    "\n",
    "(display \"Suma los dígitos de un número entero.\")(newline)\n",
    "(display \"Introduzca un número entero: \")\n",
    "(let loop ((a (read)))\n",
    "  (if (integer? a)\n",
    "      (let ((x (abs a)))\n",
    "        (display \"La suma de los dígitos de \")\n",
    "        (display x)\n",
    "        (display \" es: \")\n",
    "        (display (SumaDigitos x))\n",
    "        (newline))\n",
    "      (begin\n",
    "        (display \"Por favor, introduzca un número entero válido: \")\n",
    "        (loop (read))))\n",
    ")"
   ]
  },
  {
   "cell_type": "markdown",
   "id": "0bc1139e-f69e-4693-b20f-7cd27e99ab60",
   "metadata": {},
   "source": [
    "## 9. Conversión de Decimal a Binario 🌟\n",
    "\n",
    "> **Datos de entrada**: Un número entero decimal `n`, el cual será convertido a su equivalente binario.  \n",
    "**Datos de salida**: Una lista que representa el número binario equivalente de `n`.\n",
    "\n",
    "La función descrita, `Binario`, es una implementación recursiva para convertir un número entero decimal a su representación en binario sin utilizar funciones incorporadas específicas para este propósito en Racket. La función devuelve una lista de dígitos binarios, donde cada elemento de la lista representa un bit en la secuencia binaria del número decimal proporcionado.\n",
    "\n",
    "El proceso de conversión se basa en el algoritmo clásico que divide sucesivamente el número decimal por 2 y toma el resto como un dígito binario, proceso que se repite hasta que el cociente es 0. La construcción binaria se realiza de abajo hacia arriba, iniciando desde el bit menos significativo hasta el más significativo.\n",
    "\n",
    "La función opera bajo la siguiente lógica:\n",
    "1. **Caso base**: Si `n` es 0 o 1, la función retorna una lista conteniendo el propio `n`. Esto se debe a que 0 y 1 son sus propias representaciones en binario.\n",
    "2. **Caso recursivo**: Para cualquier otro valor de `n`, la función:\n",
    "   - Calcula el cociente de `n` dividido por 2 y pasa este valor a una llamada recursiva de sí misma. Este paso descompone el número hacia su base, dividiéndolo sucesivamente por 2 hasta alcanzar el caso base.\n",
    "   - Calcula el resto de `n` dividido por 2 (`n % 2`), que determina el bit actual en la posición binaria correspondiente.\n",
    "   - Usa `append` para concatenar el resultado de la llamada recursiva (que construye la porción binaria de los dígitos más significativos) con el resto actual (bit menos significativo). Esto ensambla la secuencia binaria en el orden correcto, desde el bit más significativo hasta el menos significativo."
   ]
  },
  {
   "cell_type": "code",
   "execution_count": 2,
   "id": "3e0ef626-462a-4703-912d-5ffda21f0d98",
   "metadata": {},
   "outputs": [
    {
     "name": "stdout",
     "output_type": "stream",
     "text": [
      "Introduzca un número entero positivo: "
     ]
    },
    {
     "name": "stdin",
     "output_type": "stream",
     "text": [
      " -345\n"
     ]
    },
    {
     "name": "stdout",
     "output_type": "stream",
     "text": [
      "Introduzca un número entero positivo válido: "
     ]
    },
    {
     "name": "stdin",
     "output_type": "stream",
     "text": [
      " 345\n"
     ]
    },
    {
     "name": "stdout",
     "output_type": "stream",
     "text": [
      "La representación binaria de 345 es: (1 0 1 0 1 1 0 0 1)\n"
     ]
    }
   ],
   "source": [
    "(define (Binario n)\n",
    "  (cond\n",
    "    ((or (= n 0) (= n 1)) (list n))\n",
    "    (else\n",
    "     (append (Binario (quotient n 2))\n",
    "             (list (remainder n 2)))))) \n",
    "\n",
    "(display \"Convierte un número decimal a binario.\")(newline)\n",
    "(display \"Introduzca un número entero positivo: \")\n",
    "(let loop ((n (read)))\n",
    "  (if (and (integer? n) (> n 0))\n",
    "      (begin\n",
    "        (display \"La representación binaria de \")\n",
    "        (display n)\n",
    "        (display \" es: \")\n",
    "        (display (Binario n))\n",
    "        (newline))\n",
    "      (begin\n",
    "        (display \"Introduzca un número entero positivo válido: \")\n",
    "        (loop (read)))))"
   ]
  },
  {
   "cell_type": "markdown",
   "id": "ddf22d4a-e933-42ee-aea2-9a0c94c38ba1",
   "metadata": {},
   "source": [
    "## 10. Cálculo de PI mediante la Serie de Leibniz 🌟\n",
    "\n",
    "> **Datos de entrada**: `n`, el número máximo de iteraciones para aproximar el valor de PI.  \n",
    "> **Datos de salida**: `pi`, la aproximación del valor de PI tras `n` iteraciones.\n",
    "\n",
    "La serie de Leibniz es una fórmula matemática que permite calcular el valor de PI mediante una serie infinita. Esta serie representa una forma simple, aunque convergente lentamente, de aproximar PI. La implementación proporcionada utiliza una función recursiva denominada `Leibniz` que acepta dos argumentos: `x`, que actúa como un iterador, y `n`, que define el número máximo de iteraciones deseado para la aproximación.\n",
    "\n",
    "La fórmula de la serie de Leibniz para $\\pi$ es la siguiente:  \n",
    "$$\\pi = 4 \\times \\sum_{k=0}^{\\infty} \\frac{(-1)^k}{2k+1} = 4 \\times (1 - \\frac{1}{3} + \\frac{1}{5} - \\frac{1}{7} + \\frac{1}{9} - ... )$$\n",
    "\n",
    "La función `Leibniz` opera de acuerdo con las siguientes reglas:\n",
    "- Si `n` es 0, entonces la aproximación de PI es 4, ya que no se realiza ninguna iteración de la serie.\n",
    "- Si el iterador `x` es igual a `n + 1`, se detiene la sucesión, devolviendo 0, ya que se ha alcanzado el número máximo de iteraciones.\n",
    "- Cuando `x` es 0, se inicia la serie multiplicando por 4 el resultado de la recursividad para obtener el valor aproximado de PI.\n",
    "- Para `x` mayor a 0, la función determina si `x` es par o impar, sumando o restando, respectivamente, el término $$\\frac{1}{2x+1}$$ de la serie. Esto se ajusta al patrón alternante de sumas y restas de la fórmula de Leibniz.\n",
    "\n",
    "La recursión continúa alternando entre sumar y restar los términos de la serie basados en si el iterador `x` es par o impar. Esta ejecución recursiva se repite hasta que `x` alcanza el valor de `n`, en cuyo punto se habrá calculado el valor aproximado de PI después de `n` iteraciones."
   ]
  },
  {
   "cell_type": "code",
   "execution_count": 3,
   "id": "54352e13-2857-4698-8da7-cc6bfea18e26",
   "metadata": {},
   "outputs": [
    {
     "name": "stdout",
     "output_type": "stream",
     "text": [
      "Aproxima el valor de PI con la serie de Leibniz.\n",
      "Introduzca un número entero positivo para las iteraciones de la serie de Leibniz: "
     ]
    },
    {
     "name": "stdin",
     "output_type": "stream",
     "text": [
      " 456\n"
     ]
    },
    {
     "name": "stdout",
     "output_type": "stream",
     "text": [
      "El valor aproximado de PI después de 456 iteraciones es: 3.1437808347779117\n"
     ]
    }
   ],
   "source": [
    "(define (Leibniz n)\n",
    "  (define (Leibniz-aux x n)\n",
    "    (cond\n",
    "      ((equal? 0 n)  4)\n",
    "      ((equal? x (+ n 1)) + 0)\n",
    "      ((equal? x 0) (* 4 (+ 1 (Leibniz-aux (+ x 1) n))))\n",
    "      ((> x 0) (if (even? x) \n",
    "                   (+ (/ 1.0 (+ 1 (* 2 x))) (Leibniz-aux (+ x 1) n))\n",
    "                   (+ (/ -1.0 (+ 1 (* 2 x))) (Leibniz-aux (+ x 1) n)))\n",
    "      )\n",
    "    )\n",
    "  )\n",
    "  (Leibniz-aux 0 n)\n",
    ")\n",
    "\n",
    "(display \"Aproxima el valor de PI con la serie de Leibniz.\")(newline)\n",
    "(display \"Introduzca un número entero positivo para las iteraciones de la serie de Leibniz: \")\n",
    "(let loop ((n (read)))\n",
    "  (if (and (integer? n) (>= n 0))\n",
    "      (begin\n",
    "        (display \"El valor aproximado de PI después de \")\n",
    "        (display n)\n",
    "        (display \" iteraciones es: \")\n",
    "        (display (Leibniz n))\n",
    "        (newline))\n",
    "      (begin\n",
    "        (display \"Introduzca un número entero positivo válido: \")\n",
    "        (loop (read)))))"
   ]
  }
 ],
 "metadata": {
  "kernelspec": {
   "display_name": "Racket",
   "language": "racket",
   "name": "racket"
  },
  "language_info": {
   "codemirror_mode": "scheme",
   "file_extension": ".rkt",
   "mimetype": "text/x-racket",
   "name": "Racket",
   "pygments_lexer": "racket",
   "version": "8.12"
  }
 },
 "nbformat": 4,
 "nbformat_minor": 5
}
